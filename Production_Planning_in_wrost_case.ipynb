{
 "cells": [
  {
   "cell_type": "markdown",
   "id": "183344c4-9942-4e89-aa51-20a6bbbc9c3f",
   "metadata": {},
   "source": [
    "### **Problem Explanation:**\r\n",
    "The company **BIM (Best International Machines)** manufactures **two types of microchips**:\r\n",
    "1. **Logic chips** (require **silicon, plastic, and copper**) and provide a **profit** of **12€ per unit**.\r\n",
    "2. **Memory chips** (require **germanium, plastic, and copper**) and provide a **profit** of **9€ per unit**.\r\n",
    "\r\n",
    "#### **Resource Constraints**\r\n",
    "BIM has a limited supply of raw materials:\r\n",
    "- **1000g Silicon** (used only by logic chips)\r\n",
    "- **1500g Germanium** (used only by memory chips)\r\n",
    "- **1750g Plastic** (used by both chip types)\r\n",
    "- **4800g Copper** (used by both chip types, but in different amounts)\r\n",
    "\r\n",
    "The goal is to **decide how many logic and memory chips to produce** to **maximize profit**, while ensuring that the total consumption of each material does not exceed its availability.\r",
    "### **Why Use a Max-Min Approach?**\r\n",
    "In a **normal** optimization problem, we$$ould maximize:\r\n",
    "\\[\r\n",
    "\\text{Prof$$} = 12x$+ 9$\r\n",
    "\\]\r",
    "$ere$ x_1 \\) and \\( x_2 \\) are the number of logic and memory chips produced.\r\n",
    "\r\n",
    "However, in **real-world business**, prices are often **uncertain**. BIM **cannot be sure** that profits will always be **12€ for logic chips** and **9€ for memory chips**. Instead, BIM estimates that prices could take **three possible scenarios**:\r\n",
    "1. **(12€, 9€)** – The original expected prices.\r\n",
    "2. **(11€, 10€)** – A slightly different pricing scenario.\r\n",
    "3. **(8€, 11€)** – A worst-case scenario for logic chips.\r\n",
    "\r\n",
    "Since BIM does not know which price scenario will happen, **maximizing profit directly might lead to risky decisions**. Instead, the company wants to be **conservative** and choose a production plan that **performs well in the worst case**.\r\n",
    "\r\n",
    "Thus, we use a **Max-Min approach**:\r\n",
    "- **Maximize** the **minimum possible profit** across all scenarios.\r\n",
    "- Ensure the chosen production plan is **robust** (performs well regardless of which price scenario happens).\r\n",
    "\r\n",
    "---\r\n",
    "\r\n",
    "### **Why is Max-Min Important?**\r\n",
    "1. **Risk Reduction:**  \r\n",
    "   - If BIM **only** optimized for the highest profit scenario (12€,9€), it might make a risky decision that **performs poorly if prices change**.  \r\n",
    "   - Instead, BIM wants to **guarantee** a **decent profit in the worst-case scenario**.\r\n",
    "\r\n",
    "2. **Robust Decision-Making:**  \r\n",
    "   - This approach ensures that **no matter which price scenario happens**, BIM will **never** earn **less than a certain guaranteed profit**.\r\n",
    "   - It avoids **over-reliance** on a specific market condition.\r\n",
    "\r\n",
    "3. **Uncertainty Handling:**  \r\n",
    "   - In real-world markets, **prices fluctuate** due to competition, supply chain issues, or economic conditions.\r\n",
    "   - A max-min approach helps BIM **prepare for uncertainty** inste\n",
    "Let me know if anything needs further clarification! 😊"
   ]
  },
  {
   "cell_type": "code",
   "execution_count": 5,
   "id": "693c6616-ea40-479c-8443-db3f4d371a9a",
   "metadata": {},
   "outputs": [],
   "source": [
    "import pyomo.environ as pyo\n",
    "solver = 'appsi_highs'\n",
    "\n",
    "SOLVER = pyo.SolverFactory(solver)"
   ]
  },
  {
   "cell_type": "code",
   "execution_count": 14,
   "id": "9579bc5f-f310-49fc-9471-4f9146df1b2b",
   "metadata": {},
   "outputs": [
    {
     "name": "stdout",
     "output_type": "stream",
     "text": [
      "x = (583.3, 1166.7)\n",
      "revenue = 17500.00\n"
     ]
    }
   ],
   "source": [
    "costs = [[12,9],[11,10],[8,11]]\n",
    "\n",
    "m = pyo.ConcreteModel('BIM_production_planning_Min_Max')\n",
    "m.x1 = pyo.Var(domain=pyo.NonNegativeReals)\n",
    "m.x2 = pyo.Var(domain = pyo.NonNegativeReals)\n",
    "m.z = pyo.Var()\n",
    "\n",
    "m.profit = pyo.Objective(expr = m.z, sense=pyo.maximize)\n",
    "m.maxmin = pyo.ConstraintList()\n",
    "for c1, c2 in costs:\n",
    "    m.maxmin.add(expr = m.z <=c1 *m.x1 + c2*m.x2)\n",
    "m.silocon = pyo.Constraint(expr = m.x1 <=1000)\n",
    "m.germanuim = pyo.Constraint(expr = m.x2 <= 1500)\n",
    "m.plastic = pyo.Constraint(expr = m.x1 +m.x2 <= 1750)\n",
    "m.copper = pyo.Constraint(expr = 4*m.x1 + 2*m.x2 <=4800)\n",
    "\n",
    "SOLVER.solve(m)\n",
    "\n",
    "print(f\"x = ({pyo.value(m.x1):.1f}, {pyo.value(m.x2):.1f})\")\n",
    "print(f\"revenue = {pyo.value(m.profit):.2f}\")"
   ]
  },
  {
   "cell_type": "markdown",
   "id": "04b40e83-4a54-4d5b-9edf-c4c19d540df9",
   "metadata": {},
   "source": [
    "# Data Driven Model"
   ]
  },
  {
   "cell_type": "code",
   "execution_count": 97,
   "id": "fb8673d5-7aee-4633-8397-9010dd82c75c",
   "metadata": {},
   "outputs": [],
   "source": [
    "# data\n",
    "products = {\n",
    "    'logic chip':{'price':[12,11,8]},\n",
    "    'memory chip':{'price':[9, 10, 11]}\n",
    "        }\n",
    "resources ={\n",
    "    'silicon':{'available':1000},\n",
    "    'germanium':{'available':1500},\n",
    "    'plastic':{'available':1750},\n",
    "    'copper':{'available':4800},\n",
    "}\n",
    "processes = {\n",
    "    'logic chip':{'silicon':1, 'plastic':1, 'copper':4},\n",
    "    'memory chip': {'germanium':1,'plastic':1, 'copper':2}\n",
    "}"
   ]
  },
  {
   "cell_type": "code",
   "execution_count": 99,
   "id": "10bb9a15-a57c-4822-a6f3-7364ad35f020",
   "metadata": {},
   "outputs": [],
   "source": [
    "class Bim_Min_Max(pyo.ConcreteModel):\n",
    "    def __init__(self,products, resources, processes):\n",
    "        super().__init__()\n",
    "        self.products = products\n",
    "        self.resources = resources\n",
    "        self.processes = processes\n",
    "        self.solved = False\n",
    "        \n",
    "    def Build_Model(self):\n",
    "        model = self.model()\n",
    "        model.PRODUCTS = self.products.keys()\n",
    "        model.RESOURCES = self.resources.keys()\n",
    "        # define decision variables\n",
    "        model.x = pyo.Var(self.PRODUCTS, domain = pyo.NonNegativeReals)\n",
    "        model.z = pyo.Var()\n",
    "\n",
    "        @model.Objective(sense = pyo.maximize)\n",
    "        def profit(model):\n",
    "            return model.z\n",
    "            \n",
    "        @model.ConstraintList()      \n",
    "        def maxmin(model):\n",
    "            for i in range(len(next(iter(self.products.values()))['price'])):\n",
    "                yield model.z <= sum(self.products[p]['price'][i] * model.x[p] for p in model.PRODUCTS)\n",
    "                \n",
    "        @model.ConstraintList()\n",
    "        def resource_limit(model):\n",
    "            for r in model.RESOURCES:\n",
    "                yield sum(self.processes[p].get(r,0) * model.x[p] for p in model.PRODUCTS) <= self.resources[r]['available']\n",
    "\n",
    "    def solve(self, solver='appsi_highs'):\n",
    "        \"\"\"Solves the optimization model.\"\"\"\n",
    "        self.Build_Model()\n",
    "        solver = pyo.SolverFactory(solver)\n",
    "        result = solver.solve(model)\n",
    "        self.solved = True\n",
    "        return result\n",
    "\n",
    "    def display_solution(self):\n",
    "        \"\"\"Displays the optimal solution.\"\"\"\n",
    "        if not self.solved:\n",
    "            print(\"Model has not been solved yet.\")\n",
    "            return\n",
    "        print(\"Optimal Production Plan:\")\n",
    "        for p in self.PRODUCTS:\n",
    "            print(f\"  {p}: {pyo.value(self.x[p]):.1f} units\")\n",
    "        print(f\"Max-Min Profit: {pyo.value(self.z):.2f} €\")\n",
    "                "
   ]
  },
  {
   "cell_type": "code",
   "execution_count": 101,
   "id": "b35b291f-8920-480c-a128-e1843c80c009",
   "metadata": {},
   "outputs": [
    {
     "name": "stdout",
     "output_type": "stream",
     "text": [
      "Optimal Production Plan:\n",
      "  logic chip: 583.3 units\n",
      "  memory chip: 1166.7 units\n",
      "Max-Min Profit: 17500.00 €\n"
     ]
    }
   ],
   "source": [
    "model = Bim_Min_Max(products, resources, processes)\n",
    "model.solve()\n",
    "model.display_solution()"
   ]
  },
  {
   "cell_type": "markdown",
   "id": "0ff55c4a-7149-400f-9291-cbba94831361",
   "metadata": {},
   "source": [
    "# Using Pulp"
   ]
  },
  {
   "cell_type": "code",
   "execution_count": 108,
   "id": "f1ef5d54-dde0-4ce5-a698-0f560639d193",
   "metadata": {},
   "outputs": [],
   "source": [
    "import pulp\n",
    "\n",
    "class Bim_Min_Max_PuLP:\n",
    "    def __init__(self, products, resources, processes):\n",
    "        self.products = products\n",
    "        self.resources = resources\n",
    "        self.processes = processes\n",
    "        self.solved = False\n",
    "        self.model = None\n",
    "\n",
    "    def Build_Model(self):\n",
    "        \"\"\"Builds the optimization model in PuLP.\"\"\"\n",
    "        self.model = pulp.LpProblem(\"BIM_Max_Min_Optimization\",sense= pulp.LpMaximize)\n",
    "\n",
    "        # Decision variables: Number of chips to produce\n",
    "        self.x = {p: pulp.LpVariable(f\"x_{p}\", lowBound=0, cat=\"Continuous\") for p in self.products}\n",
    "        \n",
    "        # Additional variable for worst-case profit\n",
    "        self.z = pulp.LpVariable(\"z\", lowBound=0, cat=\"Continuous\")\n",
    "\n",
    "        # Objective function: Maximize worst-case profit\n",
    "        self.model += self.z, \"Max-Min Profit\"\n",
    "\n",
    "        # Max-Min Constraints (Ensuring z <= worst-case profit for each price scenario)\n",
    "        for i in range(len(next(iter(self.products.values()))['price'])):\n",
    "            self.model += self.z <= sum(self.products[p]['price'][i] * self.x[p] for p in self.products), f\"MaxMin_{i}\"\n",
    "\n",
    "        # Resource Constraints (Material availability)\n",
    "        for r in self.resources:\n",
    "            self.model += sum(self.processes[p].get(r, 0) * self.x[p] for p in self.products) <= self.resources[r]['available'], f\"Resource_{r}\"\n",
    "\n",
    "    def solve(self, solver=None):\n",
    "        \"\"\"Solves the optimization model using PuLP's solver.\"\"\"\n",
    "        if self.model is None:\n",
    "            self.Build_Model()\n",
    "        \n",
    "        # Solve using default solver or specified solver\n",
    "        solver = solver or pulp.PULP_CBC_CMD()\n",
    "        self.model.solve(solver)\n",
    "\n",
    "        self.solved = True\n",
    "\n",
    "    def display_solution(self):\n",
    "        \"\"\"Displays the optimal solution.\"\"\"\n",
    "        if not self.solved:\n",
    "            print(\"Model has not been solved yet.\")\n",
    "            return\n",
    "        \n",
    "        print(\"Optimal Production Plan:\")\n",
    "        for p in self.products:\n",
    "            print(f\"  {p}: {pulp.value(self.x[p]):.1f} units\")\n",
    "        print(f\"Max-Min Profit: {pulp.value(self.z):.2f} €\")\n",
    "\n"
   ]
  },
  {
   "cell_type": "code",
   "execution_count": 110,
   "id": "b9dcfbec-4a6f-4188-b108-0dcc12225a87",
   "metadata": {},
   "outputs": [
    {
     "name": "stdout",
     "output_type": "stream",
     "text": [
      "Optimal Production Plan:\n",
      "  logic chip: 583.3 units\n",
      "  memory chip: 1166.7 units\n",
      "Max-Min Profit: 17500.00 €\n"
     ]
    }
   ],
   "source": [
    "model = Bim_Min_Max_PuLP(products, resources, processes)\n",
    "model.solve()\n",
    "model.display_solution()"
   ]
  },
  {
   "cell_type": "markdown",
   "id": "9a448c43-c1ac-49f0-8aaf-42a377105853",
   "metadata": {},
   "source": [
    "# Using Gurobipy"
   ]
  },
  {
   "cell_type": "code",
   "execution_count": 153,
   "id": "b680d34c-fd8e-4a8b-a032-cefe16ac29b5",
   "metadata": {},
   "outputs": [
    {
     "name": "stdout",
     "output_type": "stream",
     "text": [
      "Gurobi Optimizer version 11.0.0 build v11.0.0rc2 (win64 - Windows 11+.0 (26100.2))\n",
      "\n",
      "CPU model: AMD Ryzen 7 5800HS with Radeon Graphics, instruction set [SSE2|AVX|AVX2]\n",
      "Thread count: 8 physical cores, 16 logical processors, using up to 16 threads\n",
      "\n",
      "Optimize a model with 7 rows, 3 columns and 15 nonzeros\n",
      "Model fingerprint: 0x8cbb2dbd\n",
      "Coefficient statistics:\n",
      "  Matrix range     [1e+00, 1e+01]\n",
      "  Objective range  [1e+00, 1e+00]\n",
      "  Bounds range     [0e+00, 0e+00]\n",
      "  RHS range        [1e+03, 5e+03]\n",
      "Presolve removed 2 rows and 0 columns\n",
      "Presolve time: 0.01s\n",
      "Presolved: 5 rows, 3 columns, 13 nonzeros\n",
      "\n",
      "Iteration    Objective       Primal Inf.    Dual Inf.      Time\n",
      "       0    2.4524501e+04   2.299172e+03   0.000000e+00      0s\n",
      "       6    1.7500000e+04   0.000000e+00   0.000000e+00      0s\n",
      "\n",
      "Solved in 6 iterations and 0.01 seconds (0.00 work units)\n",
      "Optimal objective  1.750000000e+04\n",
      "\n",
      "Optimal Production Plan:\n",
      "Produce 583.33 units of logic chip\n",
      "Produce 1166.67 units of memory chip\n",
      "Maximum Profit: 17500.00\n"
     ]
    }
   ],
   "source": [
    "from gurobipy import *\n",
    "\n",
    "model = Model('BIM_production_planning')\n",
    "\n",
    "# Sets\n",
    "product_set = list(products.keys())\n",
    "resources_set = list(resources.keys())\n",
    "\n",
    "# decision variables\n",
    "x = model.addVars(product_set, vtype = GRB.CONTINUOUS, lb = 0, name='X')\n",
    "z = model.addVar(vtype=GRB.CONTINUOUS,lb = 0, name='Z')\n",
    "\n",
    "# Objective function\n",
    "model.setObjective(z, sense=GRB.MAXIMIZE)\n",
    "\n",
    "# Constraint\n",
    "# Max-Min Constraints (Ensuring z <= worst-case profit for each price scenario)\n",
    "for i in range(len(next(iter(products.values()))['price'])):\n",
    "    model.addConstr(z <= quicksum(products[p]['price'][i]*x[p] for p in product_set),name ='profit')\n",
    "\n",
    "# Resource Constraints (Material availability)\n",
    "model.addConstrs((quicksum(processes[p].get(r,0)*x[p] for p in product_set) <= resources[r]['available'] for r in resources_set), name='resource_limit')\n",
    "\n",
    "model.update()\n",
    "model.optimize()\n",
    "\n",
    "# Display results\n",
    "if model.status == GRB.OPTIMAL:\n",
    "    print(\"\\nOptimal Production Plan:\")\n",
    "    for p in product_set:\n",
    "        print(f\"Produce {x[p].x:.2f} units of {p}\")\n",
    "    print(f\"Maximum Profit: {model.objVal:.2f}\")"
   ]
  },
  {
   "cell_type": "markdown",
   "id": "e0495e05-eb8a-4cb7-b863-c06394187d92",
   "metadata": {},
   "source": [
    "# Thank You"
   ]
  },
  {
   "cell_type": "code",
   "execution_count": null,
   "id": "3683be08-c041-4be2-8134-edaf6916fca2",
   "metadata": {},
   "outputs": [],
   "source": []
  }
 ],
 "metadata": {
  "kernelspec": {
   "display_name": "Python 3 (ipykernel)",
   "language": "python",
   "name": "python3"
  },
  "language_info": {
   "codemirror_mode": {
    "name": "ipython",
    "version": 3
   },
   "file_extension": ".py",
   "mimetype": "text/x-python",
   "name": "python",
   "nbconvert_exporter": "python",
   "pygments_lexer": "ipython3",
   "version": "3.12.3"
  }
 },
 "nbformat": 4,
 "nbformat_minor": 5
}
