{
 "cells": [
  {
   "cell_type": "markdown",
   "id": "f086cff9-c74e-4d13-ba14-c7990fb6ca70",
   "metadata": {},
   "source": [
    "# Problem description\n",
    "The company BIM (Best International Machines) produces two types of microchips, logic chips (1g silicon, 1g plastic, 4g copper) and memory chips (1g germanium, 1g plastic, 2g copper). Each of the logic chips can be sold for a 12€ profit, and each of the memory chips for a 9€ profit. The current stock of raw materials is as follows: 1000g silicon, 1500g germanium, 1750g plastic, 4800g copper. How many microchips of each type should be produced to maximize profit while respecting the availability of raw material stock?"
   ]
  },
  {
   "cell_type": "markdown",
   "id": "276e569c-fcb1-464e-ab7d-c423673593dc",
   "metadata": {},
   "source": [
    "# Linear Programming Formulation\n",
    "\n",
    "## Decision Variables\n",
    "Let:\n",
    "- $x_1$: Number of **logic chips** to be produced.\n",
    "- $x_2$: Number of **memory chips** to be produced.\n",
    "\n",
    "## Objective Function\n",
    "Maximize the total profit:\n",
    "$$\n",
    "\\text{Maximize: } Z = 12x_1 + 9x_2\n",
    "$$ \n",
    "\n",
    "## Constraints\n",
    "1. Production of logic chips:\n",
    "   $$\n",
    "   x_1 \\leq 1000\n",
    "   $$\n",
    "2. Production of memory chips:\n",
    "   $$\n",
    "   x_2 \\leq 1500\n",
    "   $$\n",
    "3. Combined production limit:\n",
    "   $$\n",
    "   x_1 + x_2 \\leq 1750\n",
    "   $$\n",
    "4. Resource availability (silicon usage):\n",
    "   $$\n",
    "   4x_1 + 2x_2 \\leq 4800\n",
    "   $$\n",
    "5. Non-negativity constraints:\n",
    "   $$\n",
    "   x_1 \\geq 0, \\; x_2 \\geq 0\n",
    "   $$\n"
   ]
  },
  {
   "cell_type": "code",
   "execution_count": 109,
   "id": "39a45b70-cea9-4417-8c95-c9d4d1a61940",
   "metadata": {},
   "outputs": [],
   "source": [
    "import pyomo.environ as pyo\n",
    "solver = \"appsi_highs\"\n",
    "SOLVER = pyo.SolverFactory(solver)"
   ]
  },
  {
   "cell_type": "markdown",
   "id": "9ff03981-4cd5-44a8-b322-6ee14541916b",
   "metadata": {},
   "source": [
    "## Problem specific"
   ]
  },
  {
   "cell_type": "code",
   "execution_count": 112,
   "id": "4a2466bc-ef30-4952-8ce1-80a279c61acc",
   "metadata": {
    "scrolled": true
   },
   "outputs": [
    {
     "name": "stdout",
     "output_type": "stream",
     "text": [
      "x = (650.0, 1100.0)\n",
      "optimal value = 17700.0\n"
     ]
    }
   ],
   "source": [
    "model = pyo.ConcreteModel(\"BIM production planning:version 1\")\n",
    "\n",
    "# decision variables\n",
    "model.x1 = pyo.Var(domain = pyo.NonNegativeReals)\n",
    "model.x2 = pyo.Var(domain = pyo.NonNegativeReals)\n",
    "\n",
    "# objective function\n",
    "model.profit = pyo.Objective(expr= 12*model.x1 + 9*model.x2, sense = pyo.maximize)\n",
    "\n",
    "# constraints\n",
    "model.silicon = pyo.Constraint(expr = model.x1 <= 1000)\n",
    "model.germanium = pyo.Constraint(expr = model.x2 <= 1500)\n",
    "model.plastic = pyo.Constraint(expr = model.x1 + model.x2 <= 1750)\n",
    "model.copper = pyo.Constraint(expr = 4* model.x1 + 2* model.x2 <= 4800)\n",
    "\n",
    "# optimize and solve\n",
    "SOLVER.solve(model)\n",
    "\n",
    "print(f\"x = ({model.x1.value:.1f}, {model.x2.value:.1f})\")\n",
    "print(f\"optimal value = {pyo.value(model.profit):.1f}\")"
   ]
  },
  {
   "cell_type": "markdown",
   "id": "73968a28-c5fb-4358-8bae-d99d3a38c533",
   "metadata": {},
   "source": [
    "# Data Driven Model"
   ]
  },
  {
   "cell_type": "code",
   "execution_count": 115,
   "id": "cd8cbd9b-7e65-4d92-afa1-20316ba2b839",
   "metadata": {},
   "outputs": [],
   "source": [
    "# data\n",
    "products = {\n",
    "    'logic chip':{'price':12},\n",
    "    'memory chip':{'price':9}\n",
    "        }\n",
    "resources ={\n",
    "    'silicon':{'available':1000},\n",
    "    'germanium':{'available':1500},\n",
    "    'plastic':{'available':1750},\n",
    "    'copper':{'available':4800},\n",
    "}\n",
    "processes = {\n",
    "    'logic chip':{'silicon':1, 'plastic':1, 'copper':4},\n",
    "    'memory chip': {'germanium':1,'plastic':1, 'copper':2}\n",
    "}"
   ]
  },
  {
   "cell_type": "code",
   "execution_count": 117,
   "id": "3325b07f-36f8-40a0-9094-cbfcb993f00d",
   "metadata": {},
   "outputs": [
    {
     "name": "stdout",
     "output_type": "stream",
     "text": [
      "Produce 650.00 units of logic chip\n",
      "Produce 1100.00 units of memory chip\n",
      "Maximum Profit: 17700.00\n"
     ]
    }
   ],
   "source": [
    "model = pyo.ConcreteModel('BIM production plannning: version 2')\n",
    "\n",
    "model.PRODUCTS = pyo.Set(initialize = products.keys())\n",
    "model.RESOURCES = pyo.Set(initialize = resources.keys())\n",
    "\n",
    "# Parameters\n",
    "model.Price = pyo.Param(model.PRODUCTS, initialize=lambda model, p: products[p]['price'])\n",
    "model.Availability = pyo.Param(model.RESOURCES, initialize=lambda model, r: resources[r]['available'])\n",
    "model.Requirements = pyo.Param(model.PRODUCTS, model.RESOURCES, \n",
    "                                initialize=lambda model, p, r: processes[p].get(r, 0))  # Default to 0 if not in process\n",
    "\n",
    "# decision variables\n",
    "model.x = pyo.Var(model.PRODUCTS, domain = pyo.NonNegativeReals)\n",
    "\n",
    "# objective funtion\n",
    "@model.Objective(sense=pyo.maximize)\n",
    "def profit(model):\n",
    "    return pyo.quicksum(\n",
    "        model.Price[product] * model.x[product] for product in model.x\n",
    "    )\n",
    "\n",
    "@model.Constraint(model.RESOURCES)\n",
    "def ResourceConstraint(model, resource):\n",
    "    return pyo.quicksum(\n",
    "        model.Requirements[product, resource]*model.x[product] for product in model.x\n",
    "    ) <= model.Availability[resource]\n",
    "\n",
    "result = SOLVER.solve(model)\n",
    "\n",
    "# Display Results\n",
    "for product in model.PRODUCTS:\n",
    "    print(f\"Produce {model.x[product]():.2f} units of {product}\")\n",
    "print(f\"Maximum Profit: {model.profit():.2f}\")"
   ]
  },
  {
   "cell_type": "markdown",
   "id": "759743f2-c36c-49d4-9c05-19c3912a27df",
   "metadata": {},
   "source": [
    "# Using OOPs concepts"
   ]
  },
  {
   "cell_type": "code",
   "execution_count": 45,
   "id": "d574c9db-e147-4849-91de-e8e9a17fec3a",
   "metadata": {},
   "outputs": [
    {
     "name": "stdout",
     "output_type": "stream",
     "text": [
      "Profit = 17700.0\n",
      "\n",
      "Production Report\n",
      "logic chip produced = 650.0\n",
      "memory chip produced = 1100.0\n"
     ]
    }
   ],
   "source": [
    "import pyomo.environ as pyo\n",
    "\n",
    "class ProductionModel:\n",
    "    def __init__(self, products, resources, processes):\n",
    "        super().__init__()\n",
    "        self.products = products\n",
    "        self.resources = resources\n",
    "        self.processes = processes\n",
    "        self.pyomo_model = pyo.ConcreteModel()  # Renamed to avoid conflict\n",
    "        self.solved = False\n",
    "\n",
    "    def build_model(self):\n",
    "        model = self.pyomo_model\n",
    "        \n",
    "        model.PRODUCTS = pyo.Set(initialize=self.products.keys())\n",
    "        model.RESOURCES = pyo.Set(initialize=self.resources.keys())\n",
    "\n",
    "        model.x = pyo.Var(model.PRODUCTS, domain=pyo.NonNegativeReals)\n",
    "        \n",
    "        # Objective function\n",
    "        @model.Objective(sense=pyo.maximize)\n",
    "        def profit(model):\n",
    "            return sum(\n",
    "                self.products[product]['price'] * model.x[product] for product in model.PRODUCTS\n",
    "            )\n",
    "        \n",
    "        # Constraints\n",
    "        @model.Constraint(model.RESOURCES)\n",
    "        def ResourceConstraint(model, resource):\n",
    "            return sum(\n",
    "                self.processes[product].get(resource, 0) * model.x[product] for product in model.PRODUCTS\n",
    "            ) <= self.resources[resource]['available']\n",
    "        \n",
    "    def solve(self, solver=\"glpk\"):\n",
    "        self.build_model()\n",
    "        solver_instance = pyo.SolverFactory(solver)\n",
    "        solver_instance.solve(self.pyomo_model)\n",
    "        self.solved = True\n",
    "\n",
    "    def report(self):\n",
    "        if not self.solved:\n",
    "            self.solve()\n",
    "        print(f\"Profit = {pyo.value(self.pyomo_model.profit)}\")\n",
    "        print(\"\\nProduction Report\")\n",
    "        for product in self.pyomo_model.PRODUCTS:\n",
    "            print(f\"{product} produced = {pyo.value(self.pyomo_model.x[product])}\")\n",
    "\n",
    "model = ProductionModel(products, resources, processes)\n",
    "model.solve()\n",
    "model.report()"
   ]
  },
  {
   "cell_type": "markdown",
   "id": "b032dc56-d24a-4548-9b2b-a3c8ebd62f5c",
   "metadata": {},
   "source": [
    "# Canonical form"
   ]
  },
  {
   "cell_type": "code",
   "execution_count": 68,
   "id": "18042c52-9b4e-4e2d-9375-54ff6f8b116e",
   "metadata": {},
   "outputs": [
    {
     "name": "stdout",
     "output_type": "stream",
     "text": [
      "x = (650.0, 1100.0)\n",
      "optimal value = 17700.0\n"
     ]
    }
   ],
   "source": [
    "import numpy as np\n",
    "\n",
    "model = pyo.ConcreteModel('BIM production planning in matric form')\n",
    "\n",
    "# define the number of variavles and constriants\n",
    "n_vars = 2\n",
    "n_constraints = 4\n",
    "\n",
    "# decision varaibles\n",
    "model.x = pyo.Var(range(n_vars), domain = pyo.NonNegativeReals)\n",
    "\n",
    "# define data\n",
    "c = np.array([12, 9])\n",
    "A = np.array([[1,0],[0,1],[1,1],[4,2]])\n",
    "b = np.array([1000,1500,1750,4800])\n",
    "\n",
    "# Objective function\n",
    "model.profit = pyo.Objective(\n",
    "    expr=sum(c[i] * model.x[i] for i in range(n_vars)), sense=pyo.maximize\n",
    ")\n",
    "# constraints\n",
    "model.Constraints = pyo.ConstraintList()\n",
    "for i in range(n_constraints):\n",
    "    model.Constraints.add(expr=sum(A[i,j] * model.x[j] for j in range(n_vars)) <= b[i])\n",
    "\n",
    "SOLVER.solve(model)\n",
    "optimal_x = [pyo.value(model.x[i]) for i in range(n_vars)]\n",
    "print(f\"x = {tuple(np.round(optimal_x, 1))}\")\n",
    "print(f\"optimal value = {pyo.value(model.profit):.1f}\")"
   ]
  },
  {
   "cell_type": "markdown",
   "id": "d4038dd5-409f-4ada-b045-65fb136b8c44",
   "metadata": {},
   "source": [
    "# using Pulp"
   ]
  },
  {
   "cell_type": "code",
   "execution_count": 146,
   "id": "c7dabd3c-ff9f-408b-aaea-ba800fa53ea2",
   "metadata": {},
   "outputs": [
    {
     "name": "stdout",
     "output_type": "stream",
     "text": [
      "Optimal Production Plan:\n",
      "Produce 650.00 units of logic chips (x1)\n",
      "Produce 1100.00 units of memory chips (x2)\n",
      "Maximum Profit: 17700.00\n"
     ]
    }
   ],
   "source": [
    "# problem specific\n",
    "model = LpProblem(name=\"BIM_Production_Planning_version_5\", sense=LpMaximize)\n",
    "\n",
    "# Define the decision variables\n",
    "x1 = LpVariable(name=\"x1_logic_chip\", lowBound=0)  # Logic chips\n",
    "x2 = LpVariable(name=\"x2_memory_chip\", lowBound=0)  # Memory chips\n",
    "\n",
    "# Define the objective function\n",
    "model += 12 * x1 + 9 * x2, \"Maximize_Profit\"\n",
    "\n",
    "# Add the constraints\n",
    "model += x1 <= 1000, \"Silicon_Constraint\"\n",
    "model += x2 <= 1500, \"Germanium_Constraint\"\n",
    "model += x1 + x2 <= 1750, \"Plastic_Constraint\"\n",
    "model += 4 * x1 + 2 * x2 <= 4800, \"Copper_Constraint\"\n",
    "\n",
    "# Solve the problem\n",
    "model.solve()\n",
    "\n",
    "# Step 6: Display the results\n",
    "print(\"Optimal Production Plan:\")\n",
    "print(f\"Produce {x1.varValue:.2f} units of logic chips (x1)\")\n",
    "print(f\"Produce {x2.varValue:.2f} units of memory chips (x2)\")\n",
    "print(f\"Maximum Profit: {model.objective.value():.2f}\")\n"
   ]
  },
  {
   "cell_type": "code",
   "execution_count": 148,
   "id": "4fa5f9c1-79be-4972-9e20-571dfd0740ae",
   "metadata": {},
   "outputs": [
    {
     "name": "stdout",
     "output_type": "stream",
     "text": [
      "model_solved\n",
      "Product 650.0 units of logic chip should be produced\n",
      "Product 1100.0 units of memory chip should be produced\n",
      "Maximum Profit: 17700.0\n"
     ]
    }
   ],
   "source": [
    "from pulp import *\n",
    "model = LpProblem('BIM_Production_Planning_version_6', sense = LpMaximize)\n",
    "\n",
    "# define decision variables\n",
    "x = {product: LpVariable(name = f\"x_{product}\", lowBound = 0) for product in products.keys()}\n",
    "\n",
    "# Add Objective Function\n",
    "model += lpSum(products[product]['price']* x[product] for product in products.keys()),'Total_Profit'\n",
    "\n",
    "# Add Constraints\n",
    "for resource, data in resources.items():\n",
    "    model += lpSum(processes[product].get(resource, 0) * x[product] for product in products.keys()) <= data['available'], f\"Resource_Const_{resource}\"\n",
    "\n",
    "if model.solve():\n",
    "    print('model_solved')\n",
    "else:\n",
    "    print('There is some problem')\n",
    "for product in products.keys():\n",
    "    print(f\"Product {x[product].varValue} units of {product} should be produced\")\n",
    "print(f\"Maximum Profit: {model.objective.value()}\")"
   ]
  },
  {
   "cell_type": "markdown",
   "id": "2f0ec2c5-6d4c-4e67-9894-62a2d3854433",
   "metadata": {},
   "source": [
    "# Using GurobiPy"
   ]
  },
  {
   "cell_type": "code",
   "execution_count": 151,
   "id": "a5e850b7-5245-46df-a4d6-e89ded15cbf8",
   "metadata": {},
   "outputs": [
    {
     "name": "stdout",
     "output_type": "stream",
     "text": [
      "Set parameter Username\n",
      "Academic license - for non-commercial use only - expires 2025-06-26\n",
      "Gurobi Optimizer version 11.0.0 build v11.0.0rc2 (win64 - Windows 11+.0 (26100.2))\n",
      "\n",
      "CPU model: AMD Ryzen 7 5800HS with Radeon Graphics, instruction set [SSE2|AVX|AVX2]\n",
      "Thread count: 8 physical cores, 16 logical processors, using up to 16 threads\n",
      "\n",
      "Optimize a model with 4 rows, 2 columns and 6 nonzeros\n",
      "Model fingerprint: 0xc748ad9b\n",
      "Coefficient statistics:\n",
      "  Matrix range     [1e+00, 4e+00]\n",
      "  Objective range  [9e+00, 1e+01]\n",
      "  Bounds range     [0e+00, 0e+00]\n",
      "  RHS range        [1e+03, 5e+03]\n",
      "Presolve removed 2 rows and 0 columns\n",
      "Presolve time: 0.02s\n",
      "Presolved: 2 rows, 2 columns, 4 nonzeros\n",
      "\n",
      "Iteration    Objective       Primal Inf.    Dual Inf.      Time\n",
      "       0    2.1000000e+04   3.250000e+02   0.000000e+00      0s\n",
      "       2    1.7700000e+04   0.000000e+00   0.000000e+00      0s\n",
      "\n",
      "Solved in 2 iterations and 0.04 seconds (0.00 work units)\n",
      "Optimal objective  1.770000000e+04\n",
      "Optimal Production Plan:\n",
      "Produce 650.00 units of logic chips (x)\n",
      "Produce 1100.00 units of memory chips (y)\n",
      "Maximum Profit: 17700.00\n"
     ]
    }
   ],
   "source": [
    "from gurobipy import *\n",
    "\n",
    "model = Model('BIM_Production_Planning_version_7')\n",
    "\n",
    "x = model.addVar(vtype=GRB.CONTINUOUS, name='Logic_chip', lb=0)\n",
    "y = model.addVar(vtype = GRB.CONTINUOUS, name='Memory_chip', lb=0)\n",
    "\n",
    "model.setObjective(12*x + 9*y, GRB.MAXIMIZE)\n",
    "\n",
    "model.addConstr(x <= 1000, name='silicon_avail')\n",
    "model.addConstr(y <= 1500, name='germanium_avail')\n",
    "model.addConstr(x+y <= 1750, name='plastic_avial')\n",
    "model.addConstr(4*x +2*y <= 4800, name='copper_avail')\n",
    "\n",
    "model.update()\n",
    "model.optimize()\n",
    "\n",
    "# Display results\n",
    "if model.status == GRB.OPTIMAL:\n",
    "    print(\"Optimal Production Plan:\")\n",
    "    print(f\"Produce {x.x:.2f} units of logic chips (x)\")\n",
    "    print(f\"Produce {y.x:.2f} units of memory chips (y)\")\n",
    "    print(f\"Maximum Profit: {model.objVal:.2f}\")"
   ]
  },
  {
   "cell_type": "markdown",
   "id": "0dcff4eb-0121-499a-83c8-f1edd862d966",
   "metadata": {},
   "source": [
    "# Generalise "
   ]
  },
  {
   "cell_type": "code",
   "execution_count": 159,
   "id": "8f788fd0-9ec8-4790-9613-fb98f8ed0a27",
   "metadata": {},
   "outputs": [
    {
     "name": "stdout",
     "output_type": "stream",
     "text": [
      "Gurobi Optimizer version 11.0.0 build v11.0.0rc2 (win64 - Windows 11+.0 (26100.2))\n",
      "\n",
      "CPU model: AMD Ryzen 7 5800HS with Radeon Graphics, instruction set [SSE2|AVX|AVX2]\n",
      "Thread count: 8 physical cores, 16 logical processors, using up to 16 threads\n",
      "\n",
      "Optimize a model with 4 rows, 2 columns and 6 nonzeros\n",
      "Model fingerprint: 0xc748ad9b\n",
      "Coefficient statistics:\n",
      "  Matrix range     [1e+00, 4e+00]\n",
      "  Objective range  [9e+00, 1e+01]\n",
      "  Bounds range     [0e+00, 0e+00]\n",
      "  RHS range        [1e+03, 5e+03]\n",
      "Presolve removed 2 rows and 0 columns\n",
      "Presolve time: 0.01s\n",
      "Presolved: 2 rows, 2 columns, 4 nonzeros\n",
      "\n",
      "Iteration    Objective       Primal Inf.    Dual Inf.      Time\n",
      "       0    2.1000000e+04   3.250000e+02   0.000000e+00      0s\n",
      "       2    1.7700000e+04   0.000000e+00   0.000000e+00      0s\n",
      "\n",
      "Solved in 2 iterations and 0.02 seconds (0.00 work units)\n",
      "Optimal objective  1.770000000e+04\n",
      "\n",
      "Optimal Production Plan:\n",
      "Produce 650.00 units of logic chip\n",
      "Produce 1100.00 units of memory chip\n",
      "Maximum Profit: 17700.00\n"
     ]
    }
   ],
   "source": [
    "model = Model('BIM_Production_Planning_version_2')\n",
    "\n",
    "# sets\n",
    "product_set = list(products.keys())\n",
    "resource_set = list(resources.keys())\n",
    "\n",
    "# decision variables\n",
    "x = model.addVars(product_set, vtype = GRB.CONTINUOUS, lb = 0, name = 'x')\n",
    "\n",
    "# objectve funtion\n",
    "model.setObjective(quicksum(products[product]['price'] * x[product] for product in product_set), GRB.MAXIMIZE)\n",
    "\n",
    "# constraints\n",
    "model.addConstrs((quicksum(processes[product].get(resource, 0) * x[product] for product in product_set) \n",
    "                 <= resources[resource]['available'] for resource in resource_set), name = \"Resource_Avail\")\n",
    "\n",
    "model.update()\n",
    "model.optimize()\n",
    "\n",
    "# Display results\n",
    "if model.status == GRB.OPTIMAL:\n",
    "    print(\"\\nOptimal Production Plan:\")\n",
    "    for p in product_set:\n",
    "        print(f\"Produce {x[p].x:.2f} units of {p}\")\n",
    "    print(f\"Maximum Profit: {model.objVal:.2f}\")"
   ]
  },
  {
   "cell_type": "markdown",
   "id": "667f87c7-9e25-4b84-9fea-699417113b9a",
   "metadata": {},
   "source": [
    "### Thank you"
   ]
  },
  {
   "cell_type": "code",
   "execution_count": null,
   "id": "eb55732f-f5fa-472c-8588-479b1d1537a8",
   "metadata": {},
   "outputs": [],
   "source": []
  }
 ],
 "metadata": {
  "kernelspec": {
   "display_name": "Python 3 (ipykernel)",
   "language": "python",
   "name": "python3"
  },
  "language_info": {
   "codemirror_mode": {
    "name": "ipython",
    "version": 3
   },
   "file_extension": ".py",
   "mimetype": "text/x-python",
   "name": "python",
   "nbconvert_exporter": "python",
   "pygments_lexer": "ipython3",
   "version": "3.12.3"
  }
 },
 "nbformat": 4,
 "nbformat_minor": 5
}
