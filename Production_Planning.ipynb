{
 "cells": [
  {
   "cell_type": "code",
   "execution_count": 5,
   "id": "16bb2c23-15a3-4164-93e6-43333fccf48e",
   "metadata": {},
   "outputs": [],
   "source": [
    "solver = 'appsi_highs'\n",
    "\n",
    "import pyomo.environ as pyo\n",
    "\n",
    "SOLVER = pyo.SolverFactory(solver)\n",
    "\n",
    "assert SOLVER.available(),f'solver {solver} is not available'"
   ]
  },
  {
   "cell_type": "code",
   "execution_count": 17,
   "id": "58d0e277-158a-4eae-9601-1c2afb4094fd",
   "metadata": {},
   "outputs": [
    {
     "name": "stdout",
     "output_type": "stream",
     "text": [
      "Model 'Production Planning: Version 1'\n",
      "\n",
      "  Variables:\n",
      "    None\n",
      "\n",
      "  Objectives:\n",
      "    None\n",
      "\n",
      "  Constraints:\n",
      "    None\n"
     ]
    }
   ],
   "source": [
    "model = pyo.ConcreteModel('Production Planning: Version 1')\n",
    "model.display()"
   ]
  },
  {
   "cell_type": "code",
   "execution_count": 21,
   "id": "de4b0945-3c77-4f80-b3f5-4b6e4a3a4c8e",
   "metadata": {},
   "outputs": [
    {
     "name": "stdout",
     "output_type": "stream",
     "text": [
      "Model 'Production Planning: Version 1'\n",
      "\n",
      "  Variables:\n",
      "    x_M : Size=1, Index=None\n",
      "        Key  : Lower : Value : Upper : Fixed : Stale : Domain\n",
      "        None :     0 :  None :  None : False :  True :  Reals\n",
      "    x_A : Size=1, Index=None\n",
      "        Key  : Lower : Value : Upper : Fixed : Stale : Domain\n",
      "        None :     0 :  None :    80 : False :  True :  Reals\n",
      "    x_B : Size=1, Index=None\n",
      "        Key  : Lower : Value : Upper : Fixed : Stale : Domain\n",
      "        None :     0 :  None :   100 : False :  True :  Reals\n",
      "    y_U : Size=1, Index=None\n",
      "        Key  : Lower : Value : Upper : Fixed : Stale : Domain\n",
      "        None :     0 :  None :    40 : False :  True :  Reals\n",
      "    y_V : Size=1, Index=None\n",
      "        Key  : Lower : Value : Upper : Fixed : Stale : Domain\n",
      "        None :     0 :  None :  None : False :  True :  Reals\n",
      "\n",
      "  Objectives:\n",
      "    None\n",
      "\n",
      "  Constraints:\n",
      "    None\n"
     ]
    }
   ],
   "source": [
    "model.x_M = pyo.Var(bounds = (0,None))\n",
    "model.x_A = pyo.Var(bounds = (0,80))\n",
    "model.x_B = pyo.Var(bounds = (0,100))\n",
    "\n",
    "model.y_U = pyo.Var(bounds = (0,40))\n",
    "model.y_V = pyo.Var(bounds = (0,None))\n",
    "\n",
    "model.display()"
   ]
  },
  {
   "cell_type": "code",
   "execution_count": 23,
   "id": "83c55de0-7935-4e16-886c-71a384b7cca1",
   "metadata": {},
   "outputs": [
    {
     "name": "stdout",
     "output_type": "stream",
     "text": [
      "270*y_U + 210*y_V\n",
      "10*x_M + 50*x_A + 40*x_B\n"
     ]
    }
   ],
   "source": [
    "# create expression\n",
    "model.revenue = 270*model.y_U + 210*model.y_V\n",
    "model.cost = 10*model.x_M + 50*model.x_A + 40*model.x_B\n",
    "\n",
    "print(model.revenue)\n",
    "print(model.cost)"
   ]
  },
  {
   "cell_type": "code",
   "execution_count": 37,
   "id": "86baa49f-7d6d-468d-b469-443aba09f420",
   "metadata": {},
   "outputs": [
    {
     "name": "stdout",
     "output_type": "stream",
     "text": [
      "WARNING: Implicitly replacing the Component attribute profit (type=<class\n",
      "'pyomo.core.base.objective.ScalarObjective'>) on block 'Production Planning:\n",
      "Version 1' with a new Component (type=<class\n",
      "'pyomo.core.base.objective.ScalarObjective'>). This is usually indicative of a\n",
      "modelling error. To avoid this warning, use block.del_component() and\n",
      "block.add_component().\n"
     ]
    }
   ],
   "source": [
    "model.profit = pyo.Objective(expr=model.revenue - model.cost, sense=pyo.maximize)"
   ]
  },
  {
   "cell_type": "code",
   "execution_count": 39,
   "id": "d3c3d81b-85a2-4f4d-b283-d04536c9b79a",
   "metadata": {},
   "outputs": [],
   "source": [
    "model.raw_materials = pyo.Constraint(expr = 10*model.y_U + 9*model.y_V <= model.x_M)\n",
    "model.labor_A = pyo.Constraint(expr = 1* model.y_U + 1* model.y_V <= model.x_A)\n",
    "model.labor_B = pyo.Constraint(expr = 2* model.y_U + 1* model.y_V <= model.x_B)"
   ]
  },
  {
   "cell_type": "code",
   "execution_count": 41,
   "id": "ca30125b-2a10-486b-b672-3bb4dedd74c2",
   "metadata": {},
   "outputs": [
    {
     "name": "stdout",
     "output_type": "stream",
     "text": [
      "Model 'Production Planning: Version 1'\n",
      "\n",
      "  Variables:\n",
      "    x_M : Size=1, Index=None\n",
      "        Key  : Lower : Value : Upper : Fixed : Stale : Domain\n",
      "        None :     0 :  None :  None : False :  True :  Reals\n",
      "    x_A : Size=1, Index=None\n",
      "        Key  : Lower : Value : Upper : Fixed : Stale : Domain\n",
      "        None :     0 :  None :    80 : False :  True :  Reals\n",
      "    x_B : Size=1, Index=None\n",
      "        Key  : Lower : Value : Upper : Fixed : Stale : Domain\n",
      "        None :     0 :  None :   100 : False :  True :  Reals\n",
      "    y_U : Size=1, Index=None\n",
      "        Key  : Lower : Value : Upper : Fixed : Stale : Domain\n",
      "        None :     0 :  None :    40 : False :  True :  Reals\n",
      "    y_V : Size=1, Index=None\n",
      "        Key  : Lower : Value : Upper : Fixed : Stale : Domain\n",
      "        None :     0 :  None :  None : False :  True :  Reals\n",
      "\n",
      "  Objectives:\n",
      "    profit : Size=1, Index=None, Active=True\n",
      "ERROR: evaluating object as numeric value: y_U\n",
      "        (object: <class 'pyomo.core.base.var.ScalarVar'>)\n",
      "    No value for uninitialized NumericValue object y_U\n",
      "ERROR: evaluating object as numeric value: profit\n",
      "        (object: <class 'pyomo.core.base.objective.ScalarObjective'>)\n",
      "    No value for uninitialized NumericValue object y_U\n",
      "        Key : Active : Value\n",
      "        None :   None :  None\n",
      "\n",
      "  Constraints:\n",
      "    raw_materials : Size=1\n",
      "        Key  : Lower : Body : Upper\n",
      "        None :  None : None :   0.0\n",
      "    labor_A : Size=1\n",
      "        Key  : Lower : Body : Upper\n",
      "        None :  None : None :   0.0\n",
      "    labor_B : Size=1\n",
      "        Key  : Lower : Body : Upper\n",
      "        None :  None : None :   0.0\n"
     ]
    }
   ],
   "source": [
    "model.display()"
   ]
  },
  {
   "cell_type": "code",
   "execution_count": 43,
   "id": "bb66d825-6ff8-421c-a529-076f75d359ef",
   "metadata": {},
   "outputs": [
    {
     "name": "stdout",
     "output_type": "stream",
     "text": [
      "Running HiGHS 1.9.0 (git hash: fa40bdf): Copyright (c) 2024 HiGHS under MIT licence terms\n",
      "Coefficient ranges:\n",
      "  Matrix [1e+00, 1e+01]\n",
      "  Cost   [1e+01, 3e+02]\n",
      "  Bound  [4e+01, 1e+02]\n",
      "  RHS    [0e+00, 0e+00]\n",
      "Presolving model\n",
      "2 rows, 4 cols, 6 nonzeros  0s\n",
      "2 rows, 4 cols, 6 nonzeros  0s\n",
      "Presolve : Reductions: rows 2(-1); columns 4(-1); elements 6(-3)\n",
      "Solving the presolved LP\n",
      "Using EKK dual simplex solver - serial\n",
      "  Iteration        Objective     Infeasibilities num(sum)\n",
      "          0    -2.0999953995e+02 Ph1: 2(4); Du: 3(210) 0s\n",
      "          3    -2.6000000000e+03 Pr: 0(0) 0s\n",
      "Solving the original LP from the solution after postsolve\n",
      "Model status        : Optimal\n",
      "Simplex   iterations: 3\n",
      "Objective value     :  2.6000000000e+03\n",
      "Relative P-D gap    :  0.0000000000e+00\n",
      "HiGHS run time      :          0.00\n"
     ]
    }
   ],
   "source": [
    "results = SOLVER.solve(model, tee = True)"
   ]
  },
  {
   "cell_type": "code",
   "execution_count": 45,
   "id": "fe3ed36f-0f42-43fd-b790-76c192d913c0",
   "metadata": {},
   "outputs": [
    {
     "name": "stdout",
     "output_type": "stream",
     "text": [
      "5 Var Declarations\n",
      "    x_A : Size=1, Index=None\n",
      "        Key  : Lower : Value : Upper : Fixed : Stale : Domain\n",
      "        None :     0 :  80.0 :    80 : False : False :  Reals\n",
      "    x_B : Size=1, Index=None\n",
      "        Key  : Lower : Value : Upper : Fixed : Stale : Domain\n",
      "        None :     0 : 100.0 :   100 : False : False :  Reals\n",
      "    x_M : Size=1, Index=None\n",
      "        Key  : Lower : Value : Upper : Fixed : Stale : Domain\n",
      "        None :     0 : 740.0 :  None : False : False :  Reals\n",
      "    y_U : Size=1, Index=None\n",
      "        Key  : Lower : Value : Upper : Fixed : Stale : Domain\n",
      "        None :     0 :  20.0 :    40 : False : False :  Reals\n",
      "    y_V : Size=1, Index=None\n",
      "        Key  : Lower : Value : Upper : Fixed : Stale : Domain\n",
      "        None :     0 :  60.0 :  None : False : False :  Reals\n",
      "\n",
      "1 Objective Declarations\n",
      "    profit : Size=1, Index=None, Active=True\n",
      "        Key  : Active : Sense    : Expression\n",
      "        None :   True : maximize : 270*y_U + 210*y_V - (10*x_M + 50*x_A + 40*x_B)\n",
      "\n",
      "3 Constraint Declarations\n",
      "    labor_A : Size=1, Index=None, Active=True\n",
      "        Key  : Lower : Body            : Upper : Active\n",
      "        None :  -Inf : y_U + y_V - x_A :   0.0 :   True\n",
      "    labor_B : Size=1, Index=None, Active=True\n",
      "        Key  : Lower : Body              : Upper : Active\n",
      "        None :  -Inf : 2*y_U + y_V - x_B :   0.0 :   True\n",
      "    raw_materials : Size=1, Index=None, Active=True\n",
      "        Key  : Lower : Body                 : Upper : Active\n",
      "        None :  -Inf : 10*y_U + 9*y_V - x_M :   0.0 :   True\n",
      "\n",
      "9 Declarations: x_M x_A x_B y_U y_V profit raw_materials labor_A labor_B\n"
     ]
    }
   ],
   "source": [
    "model.pprint()"
   ]
  },
  {
   "cell_type": "code",
   "execution_count": 49,
   "id": "069061a4-0eea-4f48-8e96-939d178bce63",
   "metadata": {},
   "outputs": [
    {
     "name": "stdout",
     "output_type": "stream",
     "text": [
      "profit : Size=1, Index=None, Active=True\n",
      "    Key  : Active : Sense    : Expression\n",
      "    None :   True : maximize : 270*y_U + 210*y_V - (10*x_M + 50*x_A + 40*x_B)\n"
     ]
    }
   ],
   "source": [
    "model.profit.pprint()"
   ]
  },
  {
   "cell_type": "code",
   "execution_count": 51,
   "id": "51b7b4f7-ff10-465b-90a1-0ecfb405fb71",
   "metadata": {},
   "outputs": [
    {
     "data": {
      "text/plain": [
       "2600.0"
      ]
     },
     "execution_count": 51,
     "metadata": {},
     "output_type": "execute_result"
    }
   ],
   "source": [
    "pyo.value(model.profit)"
   ]
  },
  {
   "cell_type": "code",
   "execution_count": 53,
   "id": "d667af50-9163-4096-bc7b-15fd20557047",
   "metadata": {},
   "outputs": [
    {
     "data": {
      "text/plain": [
       "18000.0"
      ]
     },
     "execution_count": 53,
     "metadata": {},
     "output_type": "execute_result"
    }
   ],
   "source": [
    "pyo.value(model.revenue)"
   ]
  },
  {
   "cell_type": "code",
   "execution_count": 57,
   "id": "2c88e260-ab1f-46b7-8fa9-9c45621254d2",
   "metadata": {},
   "outputs": [
    {
     "data": {
      "text/plain": [
       "80.0"
      ]
     },
     "execution_count": 57,
     "metadata": {},
     "output_type": "execute_result"
    }
   ],
   "source": [
    "model.x_A()"
   ]
  },
  {
   "cell_type": "markdown",
   "id": "4c303575-a4b8-4276-8e1e-0f552b2d149f",
   "metadata": {},
   "source": [
    "# data driven model"
   ]
  },
  {
   "cell_type": "code",
   "execution_count": 1,
   "id": "b261d531-8f07-4fcc-9be3-e48287fc0066",
   "metadata": {},
   "outputs": [],
   "source": [
    "products = {\n",
    "    \"U\": {\"price\": 270, \"demand\": 40},\n",
    "    \"V\": {\"price\": 210, \"demand\": None},\n",
    "}\n",
    "\n",
    "resources = {\n",
    "    \"M\": {\"price\": 10, \"available\": None},\n",
    "    \"labor A\": {\"price\": 50, \"available\": 80},\n",
    "    \"labor B\": {\"price\": 40, \"available\": 100},\n",
    "}\n",
    "\n",
    "processes = {\n",
    "    \"U\": {\"M\": 10, \"labor A\": 1, \"labor B\": 2},\n",
    "    \"V\": {\"M\": 9, \"labor A\": 1, \"labor B\": 1},\n",
    "}\n"
   ]
  },
  {
   "cell_type": "code",
   "execution_count": 7,
   "id": "baf12eec-9071-43a6-a874-f1f9535e1c80",
   "metadata": {},
   "outputs": [],
   "source": [
    "model = pyo.ConcreteModel('Production Planning : version 2')"
   ]
  },
  {
   "cell_type": "code",
   "execution_count": 9,
   "id": "c89680cb-1f7a-426a-8d76-80c1ac69f5dd",
   "metadata": {},
   "outputs": [],
   "source": [
    "model.PRODUCTS = pyo.Set(initialize = products.keys())\n",
    "model.RESOURCES = pyo.Set(initialize = resources.keys())"
   ]
  },
  {
   "cell_type": "code",
   "execution_count": 11,
   "id": "7bc35306-15a5-4832-b550-045bda843a58",
   "metadata": {},
   "outputs": [],
   "source": [
    "# parameter for bounds\n",
    "@model.Param(model.PRODUCTS, domain=pyo.Any)\n",
    "def demand(model, product):\n",
    "    return products[product][\"demand\"]\n",
    "\n",
    "\n",
    "@model.Param(model.RESOURCES, domain=pyo.Any)\n",
    "def available(model, resource):\n",
    "    return resources[resource][\"available\"]\n",
    "\n",
    "\n",
    "# parameter with price coefficients\n",
    "@model.Param(model.PRODUCTS)\n",
    "def cp(model, product):\n",
    "    return products[product][\"price\"]\n",
    "\n",
    "\n",
    "@model.Param(model.RESOURCES)\n",
    "def cr(model, resource):\n",
    "    return resources[resource][\"price\"]\n",
    "\n",
    "\n",
    "# process parameters: a[r,p]\n",
    "@model.Param(model.RESOURCES, model.PRODUCTS)\n",
    "def a(model, resource, product):\n",
    "    return processes[product][resource]"
   ]
  },
  {
   "cell_type": "code",
   "execution_count": 13,
   "id": "2184cf50-926e-45ad-9222-bcbe6bc7ebcc",
   "metadata": {},
   "outputs": [],
   "source": [
    "model.x = pyo.Var(model.RESOURCES, bounds = lambda model, resource:(0, model.available[resource]))\n",
    "model.y = pyo.Var(model.PRODUCTS, bounds = lambda model, product: (0, model.demand[product]))"
   ]
  },
  {
   "cell_type": "code",
   "execution_count": 15,
   "id": "52b33321-51c2-4930-82df-08223506f0fc",
   "metadata": {},
   "outputs": [],
   "source": [
    "model.revenue = pyo.quicksum(\n",
    "        model.cp[product]*model.y[product] for product in model.PRODUCTS\n",
    ")\n",
    "\n",
    "model.cost = pyo.quicksum(\n",
    "        model.cr[resource]*model.x[resource] for resource in model.RESOURCES\n",
    ")\n",
    "\n",
    "# Create objective\n",
    "@model.Objective(sense=pyo.maximize)\n",
    "def profit(model):\n",
    "    return model.revenue-model.cost\n",
    "\n"
   ]
  },
  {
   "cell_type": "code",
   "execution_count": 17,
   "id": "f9ef24b6-3db0-4406-b183-072f110561c2",
   "metadata": {},
   "outputs": [],
   "source": [
    "# CREATE CONSTRIANTS\n",
    "@model.Constraint(model.RESOURCES)\n",
    "def material_used(model, resource):\n",
    "    return (pyo.quicksum(\n",
    "                model.a[resource, product] * model.y[product] for product in model.PRODUCTS\n",
    "            ) <= model.x[resource]\n",
    "           )"
   ]
  },
  {
   "cell_type": "code",
   "execution_count": 19,
   "id": "abbf09e9-ae07-4a98-857f-0b4f5385c261",
   "metadata": {},
   "outputs": [
    {
     "name": "stdout",
     "output_type": "stream",
     "text": [
      "2 Set Declarations\n",
      "    PRODUCTS : Size=1, Index=None, Ordered=Insertion\n",
      "        Key  : Dimen : Domain : Size : Members\n",
      "        None :     1 :    Any :    2 : {'U', 'V'}\n",
      "    RESOURCES : Size=1, Index=None, Ordered=Insertion\n",
      "        Key  : Dimen : Domain : Size : Members\n",
      "        None :     1 :    Any :    3 : {'M', 'labor A', 'labor B'}\n",
      "\n",
      "5 Param Declarations\n",
      "    a : Size=6, Index=RESOURCES*PRODUCTS, Domain=Any, Default=None, Mutable=False\n",
      "        Key              : Value\n",
      "              ('M', 'U') :    10\n",
      "              ('M', 'V') :     9\n",
      "        ('labor A', 'U') :     1\n",
      "        ('labor A', 'V') :     1\n",
      "        ('labor B', 'U') :     2\n",
      "        ('labor B', 'V') :     1\n",
      "    available : Size=3, Index=RESOURCES, Domain=Any, Default=None, Mutable=False\n",
      "        Key     : Value\n",
      "              M :  None\n",
      "        labor A :    80\n",
      "        labor B :   100\n",
      "    cp : Size=2, Index=PRODUCTS, Domain=Any, Default=None, Mutable=False\n",
      "        Key : Value\n",
      "          U :   270\n",
      "          V :   210\n",
      "    cr : Size=3, Index=RESOURCES, Domain=Any, Default=None, Mutable=False\n",
      "        Key     : Value\n",
      "              M :    10\n",
      "        labor A :    50\n",
      "        labor B :    40\n",
      "    demand : Size=2, Index=PRODUCTS, Domain=Any, Default=None, Mutable=False\n",
      "        Key : Value\n",
      "          U :    40\n",
      "          V :  None\n",
      "\n",
      "2 Var Declarations\n",
      "    x : Size=3, Index=RESOURCES\n",
      "        Key     : Lower : Value : Upper : Fixed : Stale : Domain\n",
      "              M :     0 :  None :  None : False :  True :  Reals\n",
      "        labor A :     0 :  None :    80 : False :  True :  Reals\n",
      "        labor B :     0 :  None :   100 : False :  True :  Reals\n",
      "    y : Size=2, Index=PRODUCTS\n",
      "        Key : Lower : Value : Upper : Fixed : Stale : Domain\n",
      "          U :     0 :  None :    40 : False :  True :  Reals\n",
      "          V :     0 :  None :  None : False :  True :  Reals\n",
      "\n",
      "1 Objective Declarations\n",
      "    profit : Size=1, Index=None, Active=True\n",
      "        Key  : Active : Sense    : Expression\n",
      "        None :   True : maximize : 270*y[U] + 210*y[V] - (10*x[M] + 50*x[labor A] + 40*x[labor B])\n",
      "\n",
      "1 Constraint Declarations\n",
      "    material_used : Size=3, Index=RESOURCES, Active=True\n",
      "        Key     : Lower : Body                       : Upper : Active\n",
      "              M :  -Inf :    10*y[U] + 9*y[V] - x[M] :   0.0 :   True\n",
      "        labor A :  -Inf :   y[U] + y[V] - x[labor A] :   0.0 :   True\n",
      "        labor B :  -Inf : 2*y[U] + y[V] - x[labor B] :   0.0 :   True\n",
      "\n",
      "11 Declarations: PRODUCTS RESOURCES demand available cp cr a x y profit material_used\n"
     ]
    }
   ],
   "source": [
    "model.pprint()"
   ]
  },
  {
   "cell_type": "code",
   "execution_count": 21,
   "id": "ce0ac4ec-a239-4bbe-b24a-9d91fe5d0ccb",
   "metadata": {},
   "outputs": [
    {
     "data": {
      "text/plain": [
       "{'Problem': [{'Lower bound': 2600.0, 'Upper bound': 2600.0, 'Number of objectives': 1, 'Number of constraints': 0, 'Number of variables': 0, 'Sense': 'maximize'}], 'Solver': [{'Status': 'ok', 'Termination condition': 'optimal', 'Termination message': 'TerminationCondition.optimal'}], 'Solution': [OrderedDict({'number of solutions': 0, 'number of solutions displayed': 0})]}"
      ]
     },
     "execution_count": 21,
     "metadata": {},
     "output_type": "execute_result"
    }
   ],
   "source": [
    "SOLVER.solve(model)"
   ]
  },
  {
   "cell_type": "code",
   "execution_count": 23,
   "id": "7079babf-dd07-4a19-b0eb-62060cd2e92e",
   "metadata": {},
   "outputs": [
    {
     "name": "stdout",
     "output_type": "stream",
     "text": [
      "Profit: 2600.0\n",
      "\n",
      "Production Report\n",
      "U produced = 20.0\n",
      "V produced = 60.0\n",
      "\n",
      "Resource Report\n",
      "M consumed = 740.0\n",
      "labor A consumed = 80.0\n",
      "labor B consumed = 100.0\n"
     ]
    }
   ],
   "source": [
    "print(f'Profit: {pyo.value(model.profit)}')\n",
    "print(\"\\nProduction Report\")\n",
    "for product in model.PRODUCTS:\n",
    "    print(f\"{product} produced = {pyo.value(model.y[product])}\")\n",
    "print(\"\\nResource Report\")\n",
    "for resource in model.RESOURCES:\n",
    "    print(f\"{resource} consumed = {pyo.value(model.x[resource])}\")"
   ]
  },
  {
   "cell_type": "markdown",
   "id": "7412104d-bf85-4613-b0e1-c6174b42f019",
   "metadata": {},
   "source": [
    "# Using OOPs"
   ]
  },
  {
   "cell_type": "code",
   "execution_count": 28,
   "id": "f9d2038b-6e99-45fa-8c33-5cdfc5f9df4d",
   "metadata": {},
   "outputs": [],
   "source": [
    "class ProductionModel(pyo.ConcreteModel):\n",
    "    \"\"\"\n",
    "    A class representing a production model using Pyomo\n",
    "    \"\"\"\n",
    "    def __init__(self, products, resources, processes):\n",
    "\n",
    "        super().__init__(\"Production Model\")\n",
    "        self.products = products\n",
    "        self.resources = resources\n",
    "        self.processes = processes\n",
    "\n",
    "        # flag to moniter the solution status\n",
    "        self.solved = False\n",
    "\n",
    "    def build_model(self):\n",
    "        model = self.model()\n",
    "        model.PRODUCTS = self.products.keys()\n",
    "        model.RESOURCES = self.resources.keys()\n",
    "\n",
    "        model.x = pyo.Var(\n",
    "            model.RESOURCES, bounds = lambda model, resource:(0, self.resources[resource]['available'])\n",
    "        )\n",
    "        \n",
    "        model.y = pyo.Var(\n",
    "            model.PRODUCTS, bounds= lambda model, resource:(0, self.products[product]['demand'])\n",
    "        )\n",
    "\n",
    "        model.revenue = pyo.quicksum(\n",
    "            self.products[product]['price']*model.y[product] for product in model.products\n",
    "        )\n",
    "        \n",
    "        model.cost = pyo.quicksum(\n",
    "            self.resources[resource]['price']*model.x[resource] for resource in model.resources\n",
    "        )\n",
    "\n",
    "        # create objective\n",
    "        @model.Objective(sense = pyo.maximize)\n",
    "        def profit(model):\n",
    "            return model.revenue - model.cost\n",
    "        # add constraints\n",
    "        @model.Constraint(model.RESOURCES)\n",
    "        def materials_used(model, resource):\n",
    "            return (\n",
    "                pyo.quicksum(\n",
    "                    self.processes[product][resource] * model.y[product] for product in model.PRODUCTS\n",
    "                ) <= model.x[resource]\n",
    "            )\n",
    "    def solve(self, solver = SOLVER):\n",
    "        self.build_model()\n",
    "        solver.solve(self)\n",
    "        self.solved = True\n",
    "    def report(self):\n",
    "        if not self.solved:\n",
    "            self.solve(SOLVER)\n",
    "        print(f\"Profit = {pyo.value(self.profit)}\")\n",
    "        print(\"\\nProduction Report\")\n",
    "        for product in m.PRODUCTS:\n",
    "            print(f\" {product}  produced =  {pyo.value(self.y[product])}\")\n",
    "        print(\"\\nResource Report\")\n",
    "        for resource in m.RESOURCES:\n",
    "            print(f\" {resource} consumed = {pyo.value(self.x[resource])}\")\n",
    "\n",
    "m = ProductionModel(products, resources, processes)"
   ]
  },
  {
   "cell_type": "code",
   "execution_count": 30,
   "id": "3b006579-4def-48fe-8eb5-f0dfe697be60",
   "metadata": {},
   "outputs": [
    {
     "name": "stdout",
     "output_type": "stream",
     "text": [
      "Profit = 2600.0\n",
      "\n",
      "Production Report\n",
      " U  produced =  20.0\n",
      " V  produced =  60.0\n",
      "\n",
      "Resource Report\n",
      " M consumed = 740.0\n",
      " labor A consumed = 80.0\n",
      " labor B consumed = 100.0\n"
     ]
    }
   ],
   "source": [
    "m.report()"
   ]
  },
  {
   "cell_type": "code",
   "execution_count": null,
   "id": "ef74b3a5-2804-46f3-9257-e2a2c6ee94ac",
   "metadata": {},
   "outputs": [],
   "source": []
  }
 ],
 "metadata": {
  "kernelspec": {
   "display_name": "Python 3 (ipykernel)",
   "language": "python",
   "name": "python3"
  },
  "language_info": {
   "codemirror_mode": {
    "name": "ipython",
    "version": 3
   },
   "file_extension": ".py",
   "mimetype": "text/x-python",
   "name": "python",
   "nbconvert_exporter": "python",
   "pygments_lexer": "ipython3",
   "version": "3.12.3"
  }
 },
 "nbformat": 4,
 "nbformat_minor": 5
}
